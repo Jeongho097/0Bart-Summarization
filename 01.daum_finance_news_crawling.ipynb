{
 "cells": [
  {
   "cell_type": "code",
   "execution_count": 1,
   "metadata": {
    "ExecuteTime": {
     "end_time": "2022-03-13T06:48:45.351758Z",
     "start_time": "2022-03-13T06:48:44.028745Z"
    }
   },
   "outputs": [],
   "source": [
    "from selenium import webdriver\n",
    "from selenium.webdriver.chrome.options import Options\n",
    "\n",
    "from tqdm import tqdm\n",
    "from itertools import chain\n",
    "from datetime import datetime,timedelta\n",
    "\n",
    "import requests\n",
    "import time\n",
    "import pandas as pd\n",
    "import numpy as np\n",
    "import re"
   ]
  },
  {
   "cell_type": "code",
   "execution_count": 262,
   "metadata": {
    "ExecuteTime": {
     "end_time": "2022-03-13T08:59:27.040208Z",
     "start_time": "2022-03-13T08:59:27.028680Z"
    }
   },
   "outputs": [
    {
     "name": "stdout",
     "output_type": "stream",
     "text": [
      "2022 03 13\n",
      "[2022, 3, 13]\n"
     ]
    }
   ],
   "source": [
    "end_date=datetime.today().strftime(\"%Y %m %d\")\n",
    "end = end_date\n",
    "print(end)\n",
    "end = list(map(int, end.split()))\n",
    "print(end)\n",
    "end = datetime(end[0],end[1],end[2])"
   ]
  },
  {
   "cell_type": "code",
   "execution_count": 231,
   "metadata": {
    "ExecuteTime": {
     "end_time": "2022-03-13T08:30:56.239128Z",
     "start_time": "2022-03-13T08:30:56.221840Z"
    },
    "scrolled": true
   },
   "outputs": [],
   "source": [
    "# 뉴스 url 크롤링\n",
    "\n",
    "def news_urls_crawling(code='005930',start_date='2022 03 12', end_date=datetime.today().strftime(\"%Y %m %d\")):\n",
    "    end = end_date # '2022 03 12'\n",
    "    end = list(map(int, end.split()))\n",
    "    end = datetime(end[0],end[1],end[2])\n",
    "    \n",
    "    end_date = end.strftime(\"%Y.%m.%d\") \n",
    "\n",
    "    start = start_date\n",
    "    start = list(map(int, start.split()))\n",
    "    start = datetime(start[0],start[1],start[2])\n",
    "    start_date = start.strftime(\"%Y.%m.%d\") \n",
    "\n",
    "    news_dates = [(end-timedelta(days=i)).strftime(\"%Y.%m.%d\")   for i in range(0,(end-start).days+1)]\n",
    "\n",
    "    driver = webdriver.Chrome('chromedriver.exe')\n",
    "\n",
    "    url = f'https://finance.daum.net/quotes/A{code}#news/stock'\n",
    "\n",
    "    driver.get(url)\n",
    "    time.sleep(1)\n",
    "    \n",
    "    company = driver.find_element_by_xpath('//*[@id=\"favorite\"]').text[1:-6]\n",
    "    print(company)\n",
    "\n",
    "    news_urls = []\n",
    "    while True:\n",
    "        try:\n",
    "            x = driver.find_elements_by_xpath('//*[@id=\"boxContents\"]/div[5]/div[1]/div[2]/div/ul/li')\n",
    "            for i in x:\n",
    "                news_date = i.find_element_by_xpath('span/p').text.split()[-1]\n",
    "                if news_date in news_dates:\n",
    "                    news_urls.append(i.find_element_by_xpath('span/a').get_attribute('href'))\n",
    "                elif news_date not in news_dates:\n",
    "                    driver.quit()\n",
    "            now_page = driver.find_element_by_xpath('//*[@id=\"boxContents\"]/div[5]/div[1]/div[2]/div/div/strong').text\n",
    "            if int(now_page) % 10 == 0 and now_page != 1:\n",
    "                driver.find_element_by_class_name('btnNext').click()\n",
    "                time.sleep(1.5)\n",
    "            else:\n",
    "                [i.click()  for i in driver.find_elements_by_class_name('btnMove') if str(int(now_page)+1) == i.text]\n",
    "                time.sleep(1.5)\n",
    "\n",
    "        except Exception:\n",
    "            print(f'뉴스 개수 : {len(news_urls)}')\n",
    "            break\n",
    "            \n",
    "    return news_urls"
   ]
  },
  {
   "cell_type": "code",
   "execution_count": 232,
   "metadata": {
    "ExecuteTime": {
     "end_time": "2022-03-13T08:30:57.268080Z",
     "start_time": "2022-03-13T08:30:57.258951Z"
    }
   },
   "outputs": [],
   "source": [
    "# urls = news_urls_crawling(code='005930',start_date='2022 03 13', end_date='2022 03 13')"
   ]
  },
  {
   "cell_type": "code",
   "execution_count": 281,
   "metadata": {
    "ExecuteTime": {
     "end_time": "2022-03-13T09:07:51.954848Z",
     "start_time": "2022-03-13T09:07:51.928610Z"
    }
   },
   "outputs": [],
   "source": [
    "def news_crawling(code='005930',start_date='2022 03 12', end_date=datetime.today().strftime(\"%Y %m %d\")):\n",
    "    urls = news_urls_crawling(code=code,start_date=start_date, end_date=end_date)\n",
    "    \n",
    "    titles = []   # 기사 제목\n",
    "    contents = [] # 기사 내용\n",
    "    dates = []    # 기사 날짜\n",
    "\n",
    "    driver = webdriver.Chrome('chromedriver.exe')\n",
    "\n",
    "    for url in urls:\n",
    "        driver.get(url)\n",
    "\n",
    "        time.sleep(1)\n",
    "        \n",
    "        date = url.split('/')[-1][:8]\n",
    "        date = datetime(int(x[:4]), int(x[4:6]), int(x[6:])).strftime(\"%Y.%m.%d\") \n",
    "        dates.append()\n",
    "\n",
    "        title = driver.find_element_by_xpath('//*[@id=\"boxHeader\"]/div[1]/h5').text\n",
    "        if '[' in title and ']' in title:\n",
    "            title = title.replace(title[title.index('['):title.index(']')+1],'')\n",
    "        else:\n",
    "            pass\n",
    "        titles.append(title)\n",
    "\n",
    "        section = driver.find_element_by_id('dmcfContents')\n",
    "        tag_p = section.find_elements_by_tag_name('p')\n",
    "        tag_div = section.find_elements_by_tag_name('div')\n",
    "\n",
    "        if len(tag_p) >= len(tag_div) and len(tag_p) > 1:\n",
    "            document = [i.text for i in tag_p]\n",
    "        elif len(tag_p) < len(tag_div):\n",
    "            document = [i.text for i in tag_div]\n",
    "        elif len(tag_p) == 1 and len(tag_div) == 1:\n",
    "            document = [i.text for i in tag_div]\n",
    "\n",
    "        document = [i.split('\\n') for i in document]\n",
    "        if type(document[0]) == list:\n",
    "            document = list(chain(*document))\n",
    "        else:\n",
    "            pass\n",
    "\n",
    "        c = []\n",
    "        for content in document:\n",
    "            if '[' in content and ']' in content:\n",
    "                content = content.replace(content[content.index('['):content.index(']')+1],'')\n",
    "            else:\n",
    "                pass\n",
    "\n",
    "            content = content.replace(content, '') if '@' in content else content\n",
    "            content = content.replace(content, '') if '▶' in content else content\n",
    "            content = content.replace(content, '') if '■' in content else content\n",
    "            content = content.replace(content, '') if '◇' in content else content\n",
    "            content = content.replace(content, '') if 'ⓒ' in content else content\n",
    "            content = content.replace(content, '') if '(끝)' in content else content\n",
    "            content = content.replace(content, '') if '사진=' in content else content\n",
    "            content = content.replace(content, '') if '☞' in content else content\n",
    "            content = re.sub('[━△▲◆]',\"\",content)\n",
    "            c.append(content)\n",
    "\n",
    "        contents.append(' '.join(c).rstrip())\n",
    "\n",
    "    driver.quit()\n",
    "    print('Done')\n",
    "    \n",
    "    data_dict = {'dates':dates,'titles':titles, 'contents':contents}\n",
    "    df = pd.DataFrame(data_dict, columns=data_dict.keys())\n",
    "    df = df.drop(index = df.query('contents == \"\"').index, axis=1)\n",
    "    df = df.drop_duplicates().reset_index(drop=True)\n",
    "    df.to_csv(f'datas/{company}_{start_date}~{end_date}.csv',index=False,encoding='utf-8')\n",
    "    \n",
    "    return df"
   ]
  },
  {
   "cell_type": "code",
   "execution_count": 241,
   "metadata": {
    "ExecuteTime": {
     "end_time": "2022-03-13T08:52:09.214494Z",
     "start_time": "2022-03-13T08:46:13.376058Z"
    }
   },
   "outputs": [
    {
     "name": "stdout",
     "output_type": "stream",
     "text": [
      "삼성전자\n",
      "뉴스 개수 : 250\n",
      "Done\n"
     ]
    }
   ],
   "source": [
    "df = news_crawling(code='005930',start_date='2022 03 11', end_date='2022 03 13')"
   ]
  }
 ],
 "metadata": {
  "kernelspec": {
   "display_name": "Python 3",
   "language": "python",
   "name": "python3"
  },
  "language_info": {
   "codemirror_mode": {
    "name": "ipython",
    "version": 3
   },
   "file_extension": ".py",
   "mimetype": "text/x-python",
   "name": "python",
   "nbconvert_exporter": "python",
   "pygments_lexer": "ipython3",
   "version": "3.8.5"
  },
  "varInspector": {
   "cols": {
    "lenName": 16,
    "lenType": 16,
    "lenVar": 40
   },
   "kernels_config": {
    "python": {
     "delete_cmd_postfix": "",
     "delete_cmd_prefix": "del ",
     "library": "var_list.py",
     "varRefreshCmd": "print(var_dic_list())"
    },
    "r": {
     "delete_cmd_postfix": ") ",
     "delete_cmd_prefix": "rm(",
     "library": "var_list.r",
     "varRefreshCmd": "cat(var_dic_list()) "
    }
   },
   "types_to_exclude": [
    "module",
    "function",
    "builtin_function_or_method",
    "instance",
    "_Feature"
   ],
   "window_display": false
  }
 },
 "nbformat": 4,
 "nbformat_minor": 5
}
